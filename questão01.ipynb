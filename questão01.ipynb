{
 "cells": [
  {
   "attachments": {},
   "cell_type": "markdown",
   "metadata": {},
   "source": [
    "Questão 01 - Letra A"
   ]
  },
  {
   "cell_type": "code",
   "execution_count": 7,
   "metadata": {},
   "outputs": [],
   "source": [
    "from PIL import Image\n",
    "\n",
    "def main():\n",
    "    folha = Image.open(\"Ativ.Pratica.01/folha.png\")\n",
    "    borda_folha = Image.new(\"L\", folha.size)\n",
    "\n",
    "    for i in range(1, folha.width):\n",
    "        for j in range(1, folha.height):\n",
    "            if (folha.getpixel((i, j)) == (255, 255, 255, 255)) and (\n",
    "            folha.getpixel((i+1, j)) == (0, 0, 0, 255) or\n",
    "            folha.getpixel((i+1, j-1)) == (0, 0, 0, 255) or\n",
    "            folha.getpixel((i, j-1)) == (0, 0, 0, 255) or\n",
    "            folha.getpixel((i-1, j-1)) == (0, 0, 0, 255) or\n",
    "            folha.getpixel((i-1, j)) == (0, 0, 0, 255) or\n",
    "            folha.getpixel((i-1, j+1)) == (0, 0, 0, 255) or\n",
    "            folha.getpixel((i, j + 1)) == (0, 0, 0, 255) or\n",
    "            folha.getpixel((i+1, j+1)) == (0, 0, 0, 255)):\n",
    "                borda_folha.putpixel((i, j), 255)\n",
    "\n",
    "    borda_folha.save(\"folha_adj_8.png\")\n",
    "\n",
    "\n",
    "if __name__ == \"__main__\":\n",
    "    main()"
   ]
  },
  {
   "attachments": {},
   "cell_type": "markdown",
   "metadata": {},
   "source": [
    "Questão 01 - Letra B"
   ]
  },
  {
   "cell_type": "code",
   "execution_count": 11,
   "metadata": {},
   "outputs": [],
   "source": [
    "from PIL import Image\n",
    "\n",
    "def main():\n",
    "    folha = Image.open(\"Ativ.Pratica.01/folha.png\")\n",
    "    borda_folha = Image.new(\"L\", folha.size)\n",
    "\n",
    "    for i in range(1, folha.width):\n",
    "        for j in range(1, folha.height):\n",
    "            if (folha.getpixel((i, j)) == (255, 255, 255, 255)) and (\n",
    "            folha.getpixel((i+1, j)) == (0, 0, 0, 255) or\n",
    "            folha.getpixel((i, j-1)) == (0, 0, 0, 255) or\n",
    "            folha.getpixel((i-1, j)) == (0, 0, 0, 255) or\n",
    "            folha.getpixel((i, j + 1)) == (0, 0, 0, 255)):\n",
    "                borda_folha.putpixel((i, j), 255)\n",
    "\n",
    "    borda_folha.save(\"folha_adj_m.png\")\n",
    "\n",
    "\n",
    "if __name__ == \"__main__\":\n",
    "    main()"
   ]
  },
  {
   "cell_type": "code",
   "execution_count": null,
   "metadata": {},
   "outputs": [],
   "source": []
  }
 ],
 "metadata": {
  "kernelspec": {
   "display_name": "Python 3",
   "language": "python",
   "name": "python3"
  },
  "language_info": {
   "codemirror_mode": {
    "name": "ipython",
    "version": 3
   },
   "file_extension": ".py",
   "mimetype": "text/x-python",
   "name": "python",
   "nbconvert_exporter": "python",
   "pygments_lexer": "ipython3",
   "version": "3.11.1 (tags/v3.11.1:a7a450f, Dec  6 2022, 19:58:39) [MSC v.1934 64 bit (AMD64)]"
  },
  "orig_nbformat": 4,
  "vscode": {
   "interpreter": {
    "hash": "5b58e2c4bf4e81972f68b0c6700d37529a3d80711dbd43704aa56c7199cc9bc0"
   }
  }
 },
 "nbformat": 4,
 "nbformat_minor": 2
}
