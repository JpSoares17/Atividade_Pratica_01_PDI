{
 "cells": [
  {
   "attachments": {},
   "cell_type": "markdown",
   "metadata": {},
   "source": [
    "Questão 03 - Letra A Part 1"
   ]
  },
  {
   "cell_type": "code",
   "execution_count": 4,
   "metadata": {},
   "outputs": [],
   "source": [
    "from PIL import Image\n",
    "import matplotlib.pyplot as plt\n",
    "\n",
    "def main():\n",
    "    soma = 0\n",
    "    imagem = Image.open(\"Ativ.Pratica.01/lena_gray.bmp\")\n",
    "\n",
    "    width, height = imagem.size\n",
    "\n",
    "    x = [0 for _ in range(256)]\n",
    "    eq = [0 for _ in range(256)]\n",
    "\n",
    "    for i in range(width):\n",
    "        for j in range(height):\n",
    "            x[imagem.getpixel((i, j))] += 1\n",
    "            \n",
    "            \n",
    "    for k in range(width):\n",
    "        soma += x[k]\n",
    "        eq[k] += int((255/ (width * height)) * soma)\n",
    "\n",
    "    for i in range(width):\n",
    "        for j in range(height):\n",
    "            imagem.putpixel((i, j),  eq[imagem.getpixel((i, j))])\n",
    "\n",
    "    #imagem.save(\"lena_gray_equal.png\")\n",
    "    imagem.show()\n",
    "\n",
    "if __name__ == \"__main__\":\n",
    "    main()"
   ]
  },
  {
   "attachments": {},
   "cell_type": "markdown",
   "metadata": {},
   "source": [
    "Questão 03 - Letra A Part 2"
   ]
  },
  {
   "cell_type": "code",
   "execution_count": 5,
   "metadata": {},
   "outputs": [],
   "source": [
    "from PIL import Image\n",
    "import matplotlib.pyplot as plt\n",
    "\n",
    "def main():\n",
    "    soma = 0\n",
    "    imagem = Image.open(\"Ativ.Pratica.01/image1.png\")\n",
    "\n",
    "    width, height = imagem.size\n",
    "\n",
    "    x = [0 for _ in range(width)]\n",
    "    eq = [0 for _ in range(width)]\n",
    "\n",
    "    for i in range(width):\n",
    "        for j in range(height):\n",
    "            x[imagem.getpixel((i, j))] += 1\n",
    "            \n",
    "            \n",
    "    for k in range(width):\n",
    "        soma += x[k]\n",
    "        eq[k] += int((255/ (width * height)) * soma)\n",
    "\n",
    "    for i in range(width):\n",
    "        for j in range(height):\n",
    "            imagem.putpixel((i, j),  eq[imagem.getpixel((i, j))])\n",
    "\n",
    "    # imagem.save(\"image1_equal.png\")\n",
    "    imagem.show()\n",
    "\n",
    "if __name__ == \"__main__\":\n",
    "    main()"
   ]
  },
  {
   "attachments": {},
   "cell_type": "markdown",
   "metadata": {},
   "source": [
    "Questão 03 - Letra B"
   ]
  },
  {
   "cell_type": "code",
   "execution_count": 8,
   "metadata": {},
   "outputs": [],
   "source": [
    "from PIL import Image\n",
    "import matplotlib.pyplot as plt\n",
    "\n",
    "def main():\n",
    "    soma = 0\n",
    "    imagem = Image.open(\"image1_equal.png\")\n",
    "\n",
    "    width, height = imagem.size\n",
    "\n",
    "    x = [0 for _ in range(256)]\n",
    "    eq = [0 for _ in range(256)]\n",
    "\n",
    "    for i in range(width):\n",
    "        for j in range(height):\n",
    "            x[imagem.getpixel((i, j))] += 1\n",
    "            \n",
    "            \n",
    "    for k in range(256):\n",
    "        soma += x[k]\n",
    "        eq[k] += round((255/ (width * height)) * soma)\n",
    "\n",
    "    for i in range(width):\n",
    "        for j in range(height):\n",
    "            imagem.putpixel((i, j),  eq[imagem.getpixel((i, j))])\n",
    "\n",
    "    imagem.save(\"image1_equal_equal.png\")\n",
    "\n",
    "if __name__ == \"__main__\":\n",
    "    main()"
   ]
  },
  {
   "cell_type": "code",
   "execution_count": null,
   "metadata": {},
   "outputs": [],
   "source": []
  }
 ],
 "metadata": {
  "kernelspec": {
   "display_name": "Python 3",
   "language": "python",
   "name": "python3"
  },
  "language_info": {
   "codemirror_mode": {
    "name": "ipython",
    "version": 3
   },
   "file_extension": ".py",
   "mimetype": "text/x-python",
   "name": "python",
   "nbconvert_exporter": "python",
   "pygments_lexer": "ipython3",
   "version": "3.11.1 (tags/v3.11.1:a7a450f, Dec  6 2022, 19:58:39) [MSC v.1934 64 bit (AMD64)]"
  },
  "orig_nbformat": 4,
  "vscode": {
   "interpreter": {
    "hash": "5b58e2c4bf4e81972f68b0c6700d37529a3d80711dbd43704aa56c7199cc9bc0"
   }
  }
 },
 "nbformat": 4,
 "nbformat_minor": 2
}
